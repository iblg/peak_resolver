{
 "cells": [
  {
   "cell_type": "code",
   "execution_count": 6,
   "id": "632b99a6-85a0-450c-bffc-0383ce8f28ab",
   "metadata": {},
   "outputs": [],
   "source": [
    "import pandas as pd\n",
    "import numpy as np\n",
    "from scipy.optimize import minimize\n",
    "from peak_resolver.linear_combination_fitting import *\n",
    "import matplotlib.pyplot as plt"
   ]
  },
  {
   "cell_type": "code",
   "execution_count": 3,
   "id": "ce34f9ef-a150-4962-b854-e34812d7ea24",
   "metadata": {},
   "outputs": [
    {
     "name": "stdout",
     "output_type": "stream",
     "text": [
      "Optimized parameters: [0.         0.         1.66666275]\n",
      "Minimized residuals: 7.439331377192221e-05\n"
     ]
    }
   ],
   "source": [
    "# Example usage with a tuple of three vectors\n",
    "x = np.linspace(0,100,1000)\n",
    "x2 = x**2# + 0.001 * np.random.rand(x.shape[0])\n",
    "x3 = x**3 #+ 0.001*np.random.rand(x.shape[0])\n",
    "x4 = 0.6*np.ones_like(x)\n",
    "\n",
    "\n",
    "target = np.ones_like(x)\n",
    "\n",
    "basis = (x2, x3, x4)\n",
    "\n",
    "result = lin_combination_fitting(target, basis, \n",
    "                                 # initial_guess=[1,1,1],\n",
    "                                 bounds=[[0,2],[0,2],[0,2]], \n",
    "                                 method='Nelder-Mead',)                                )\n",
    "p = result['p']\n",
    "print(\"Optimized parameters:\", result[\"p\"])\n",
    "print(\"Minimized residuals:\", result[\"r\"])"
   ]
  },
  {
   "cell_type": "code",
   "execution_count": 7,
   "id": "d20278b1-39d1-456b-bc97-f41cbd6f63d7",
   "metadata": {},
   "outputs": [
    {
     "data": {
      "text/plain": [
       "<matplotlib.legend.Legend at 0x1614b6450>"
      ]
     },
     "execution_count": 7,
     "metadata": {},
     "output_type": "execute_result"
    },
    {
     "data": {
      "image/png": "[encoded data removed]",
      "text/plain": [
       "<Figure size 640x480 with 1 Axes>"
      ]
     },
     "metadata": {},
     "output_type": "display_data"
    }
   ],
   "source": [
    "fit = np.zeros_like(x)\n",
    "for c, f in zip(p, basis):\n",
    "    fit += c * f\n",
    "plt.plot(x,fit, label = 'fit')\n",
    "plt.plot(x, target-fit, label='resid')\n",
    "plt.plot(x, target, label='target')\n",
    "plt.legend()"
   ]
  },
  {
   "cell_type": "code",
   "execution_count": null,
   "id": "c06b4362-7bf7-4ad9-8750-634326b2f8d9",
   "metadata": {},
   "outputs": [],
   "source": []
  },
  {
   "cell_type": "code",
   "execution_count": null,
   "id": "bb2f07fc-446b-4126-9513-f28504b49759",
   "metadata": {},
   "outputs": [],
   "source": []
  }
 ],
 "metadata": {
  "kernelspec": {
   "display_name": "Python 3 (ipykernel)",
   "language": "python",
   "name": "python3"
  },
  "language_info": {
   "codemirror_mode": {
    "name": "ipython",
    "version": 3
   },
   "file_extension": ".py",
   "mimetype": "text/x-python",
   "name": "python",
   "nbconvert_exporter": "python",
   "pygments_lexer": "ipython3",
   "version": "3.12.0"
  }
 },
 "nbformat": 4,
 "nbformat_minor": 5
}
