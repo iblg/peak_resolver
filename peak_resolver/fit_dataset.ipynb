{
 "cells": [
  {
   "cell_type": "code",
   "execution_count": 1,
   "id": "b9af0895-6c05-418a-9f23-4be61805a0d5",
   "metadata": {},
   "outputs": [],
   "source": [
    "from peak_resolver.linear_combination_fitting import *\n",
    "from peak_resolver.get_models_bases import get_models, get_basis_functions\n",
    "from peak_resolver.process_chromeleon import process_chromeleon_file\n",
    "import pickle\n",
    "import pathlib\n",
    "from pathlib import Path\n",
    "import xarray as xr\n",
    "from xarray import apply_ufunc"
   ]
  },
  {
   "cell_type": "code",
   "execution_count": null,
   "id": "3f5a5ead-fb66-4678-9d61-1ec6e4c2467a",
   "metadata": {},
   "outputs": [],
   "source": []
  },
  {
   "cell_type": "code",
   "execution_count": null,
   "id": "775e5d21-3fb5-49d3-a334-9d8a01e8564d",
   "metadata": {},
   "outputs": [],
   "source": []
  },
  {
   "cell_type": "code",
   "execution_count": 5,
   "id": "c26d61c3-bc15-4e3e-b24d-8da421bb7afe",
   "metadata": {
    "scrolled": true
   },
   "outputs": [],
   "source": [
    "basis_root = '/Users/ianbillinge/Documents/yiplab/projects/org_acids_iems/Fanny Raw IC Data/CALIBRATION CURVES/calib.nc'\n",
    "basis = get_basis_functions(basis_root, conc=0.5)"
   ]
  },
  {
   "cell_type": "code",
   "execution_count": null,
   "id": "23e3345d-428b-4956-92b5-099d45a6486f",
   "metadata": {},
   "outputs": [],
   "source": []
  },
  {
   "cell_type": "code",
   "execution_count": null,
   "id": "9f5bd316-e9d5-4544-89bc-6eae224eac69",
   "metadata": {},
   "outputs": [],
   "source": []
  },
  {
   "cell_type": "code",
   "execution_count": null,
   "id": "c56ae1e5-ef26-4514-9557-8f71029c17d8",
   "metadata": {},
   "outputs": [],
   "source": [
    "def mean(data, dim=\"t\"):\n",
    "\n",
    "    return apply_ufunc(\n",
    "\n",
    "        np.abs,\n",
    "\n",
    "        data,\n",
    "\n",
    "        input_core_dims=[dim],\n",
    "\n",
    "        vectorize=True,\n",
    "\n",
    "    )\n",
    "\n",
    "\n",
    "    "
   ]
  },
  {
   "cell_type": "code",
   "execution_count": null,
   "id": "03f7226b-f46c-4b54-892e-7452e012bf1a",
   "metadata": {},
   "outputs": [],
   "source": [
    "mean = mean(ds['s'])"
   ]
  },
  {
   "cell_type": "code",
   "execution_count": null,
   "id": "49dad19f-1a2b-484f-a42f-c5c5723b8948",
   "metadata": {},
   "outputs": [],
   "source": [
    "mean"
   ]
  },
  {
   "cell_type": "code",
   "execution_count": null,
   "id": "09662b5d-c2e8-4514-a0de-4419c5cec5ef",
   "metadata": {},
   "outputs": [],
   "source": [
    "df = ds['ds'].to_dataframe().dropna()"
   ]
  },
  {
   "cell_type": "code",
   "execution_count": null,
   "id": "6d9f4ef6-3d62-4ee9-89c9-45ce650ae0b3",
   "metadata": {},
   "outputs": [],
   "source": [
    "df"
   ]
  },
  {
   "cell_type": "code",
   "execution_count": null,
   "id": "46d2a18f-96b4-4797-89c0-d1a7f484d234",
   "metadata": {},
   "outputs": [],
   "source": [
    "for side in ds.coords['side'].values:\n",
    "    for run in ds.coords['run']:\n",
    "        for exp_time in ds.coords['exp_time']:\n",
    "            for ace in ds.coords['Acetic']:\n",
    "                for pro in ds.coords['Propionic']:\n",
    "                    for but in ds.coords['Butyric']:\n",
    "                        for val in ds.coords['Valeric']:\n",
    "                            for cap in ds.coords['Caproic']:\n",
    "                                print(ds.sel(side=side, \n",
    "                                             run=run, \n",
    "                                             exp_time=exp_time, \n",
    "                                             Acetic=ac,\n",
    "                                             Propionic=pro,\n",
    "                                             Butyric=but,\n",
    "                                             Valeric=val,\n",
    "                                             Caproic=cap\n",
    "                                            ).dropna(dim='t', how='all'))\n",
    "                \n"
   ]
  },
  {
   "cell_type": "code",
   "execution_count": null,
   "id": "35d3050f-0a1b-4f6b-984c-8d9e68e9e672",
   "metadata": {},
   "outputs": [],
   "source": []
  },
  {
   "cell_type": "code",
   "execution_count": null,
   "id": "aff45d59-669d-4e3a-897d-227989a45bbe",
   "metadata": {},
   "outputs": [],
   "source": [
    "root = '/Users/ianbillinge/Documents/yiplab/projects/org_acids_iems/Fanny Raw IC Data/Calibration Curves'\n",
    "acids = ['acetic', 'propanoic', 'butyric', 'valeric', 'caproic']\n",
    "models = get_models(root, acids)\n",
    "acids = [a.capitalize() for a in acids]\n",
    "for i in list(models):\n",
    "    models[i + '_err'] = np.sqrt(np.sum(models[i].resid)**2/models[i].df_resid)"
   ]
  },
  {
   "cell_type": "code",
   "execution_count": null,
   "id": "77e64e0a-32e8-41d1-98d4-983425ad3e9b",
   "metadata": {},
   "outputs": [],
   "source": [
    "models['ace'].resid"
   ]
  },
  {
   "cell_type": "code",
   "execution_count": null,
   "id": "f1fc6ffb-34e9-446a-834d-eb6c372a9846",
   "metadata": {},
   "outputs": [],
   "source": [
    "models"
   ]
  },
  {
   "cell_type": "code",
   "execution_count": null,
   "id": "91bd2c87-93dd-4f05-87bd-5b93e0e605ca",
   "metadata": {},
   "outputs": [],
   "source": []
  },
  {
   "cell_type": "code",
   "execution_count": null,
   "id": "9240f157-443b-4056-b311-0eff97174c50",
   "metadata": {},
   "outputs": [],
   "source": []
  },
  {
   "cell_type": "code",
   "execution_count": null,
   "id": "1d8282ec-e03c-49b8-8848-0809b6a02215",
   "metadata": {},
   "outputs": [],
   "source": []
  },
  {
   "cell_type": "code",
   "execution_count": null,
   "id": "e2aa424d-85f2-4269-b285-e938cf5fc754",
   "metadata": {},
   "outputs": [],
   "source": []
  },
  {
   "cell_type": "code",
   "execution_count": null,
   "id": "fa33bb59-2ff9-4b5a-b948-a84fdadafff5",
   "metadata": {},
   "outputs": [],
   "source": [
    "a = xr.DataArray([[1,2,3], [4,5,6]], dims=['x', 'y'])\n",
    "b = xr.DataArray([[-1, -2, -3], [4,5,6]], dims=['x', 'y'])"
   ]
  },
  {
   "cell_type": "code",
   "execution_count": null,
   "id": "d1807409-b81e-4d51-b260-e2b0ba69a573",
   "metadata": {},
   "outputs": [],
   "source": [
    "b"
   ]
  },
  {
   "cell_type": "code",
   "execution_count": null,
   "id": "2845ad22-b754-4756-8420-f69c7116a8c5",
   "metadata": {},
   "outputs": [],
   "source": [
    "def magnitude(a, b):\n",
    "\n",
    "    # func = lambda x, y: np.sqrt(x**2 + y**2)\n",
    "\n",
    "    return xr.apply_ufunc(norm, a, b)\n",
    "\n",
    "def norm(x, y):\n",
    "    return np.sqrt(x**2 + y**2)\n",
    "\n",
    "def _inner(x, y):\n",
    "\n",
    "    result = np.matmul(x[..., np.newaxis, :], y[..., :, np.newaxis])\n",
    "\n",
    "    return result[..., 0, 0]\n",
    "\n",
    "\n",
    "def inner_product(a, b, dim):\n",
    "\n",
    "    return apply_ufunc(_inner, a, b, input_core_dims=[[dim], [dim]])\n",
    "\n",
    "def v_lin_com(vectors, dim='t', initial_guess=None, bounds = None, method='Nelder-Mead',):\n",
    "\n",
    "    return apply_ufunc(lin_combination_fitting, target, vectors, initial_guess=initial_guess, bounds = None, method='Nelder-Mead', input_core_dims=[[dim], [dim]])\n"
   ]
  },
  {
   "cell_type": "code",
   "execution_count": null,
   "id": "1d674733-9c68-4f09-9cef-73dc06ab634f",
   "metadata": {},
   "outputs": [],
   "source": [
    "v_lin_com()"
   ]
  },
  {
   "cell_type": "code",
   "execution_count": null,
   "id": "4e37bb98-4a33-4b42-977e-2d21602eeba6",
   "metadata": {},
   "outputs": [],
   "source": [
    "a"
   ]
  },
  {
   "cell_type": "code",
   "execution_count": null,
   "id": "9e1dc65d-0bd3-4818-b5d7-17cfeabda689",
   "metadata": {},
   "outputs": [],
   "source": [
    "b"
   ]
  },
  {
   "cell_type": "code",
   "execution_count": null,
   "id": "503d9970-d842-49f2-94bd-5886ae13dc47",
   "metadata": {},
   "outputs": [],
   "source": [
    "inner_product(a,b,'y')"
   ]
  },
  {
   "cell_type": "code",
   "execution_count": null,
   "id": "25f28869-e16f-42dc-b2e0-b8efa5743e73",
   "metadata": {},
   "outputs": [],
   "source": []
  }
 ],
 "metadata": {
  "kernelspec": {
   "display_name": "Python 3 (ipykernel)",
   "language": "python",
   "name": "python3"
  },
  "language_info": {
   "codemirror_mode": {
    "name": "ipython",
    "version": 3
   },
   "file_extension": ".py",
   "mimetype": "text/x-python",
   "name": "python",
   "nbconvert_exporter": "python",
   "pygments_lexer": "ipython3",
   "version": "3.12.0"
  }
 },
 "nbformat": 4,
 "nbformat_minor": 5
}
