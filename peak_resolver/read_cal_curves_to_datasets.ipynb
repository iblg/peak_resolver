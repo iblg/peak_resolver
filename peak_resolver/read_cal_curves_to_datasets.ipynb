{
 "cells": [
  {
   "cell_type": "code",
   "execution_count": 7,
   "id": "d4591148-d624-4a48-9ecc-79e60213e659",
   "metadata": {},
   "outputs": [],
   "source": [
    "import pathlib\n",
    "from pathlib import Path\n",
    "import pandas as pd\n",
    "import xarray as xr"
   ]
  },
  {
   "cell_type": "code",
   "execution_count": 8,
   "id": "34535dce-b580-4562-aafa-c06f8a20b225",
   "metadata": {},
   "outputs": [],
   "source": [
    "def process_chromeleon_file(filepath: pathlib.PosixPath, tmin: float, tmax: float):\n",
    "    with filepath.open() as f: \n",
    "        lines = f.readlines()\n",
    "   \n",
    "    lines = [line.strip().split('\\t') for line in lines]\n",
    "    lines = lines[44:-1]\n",
    "    data = pd.DataFrame(lines, columns = ['t', 'step', 's'], dtype='float')\n",
    "    data = data.drop(columns='step')\n",
    "    data['ds'] = data['s'].diff()\n",
    "    data['d2s'] = data['ds'].diff()\n",
    "    data = data.where(data['t'] > tmin).where(data['t'] < tmax).dropna()\n",
    "    \n",
    "    return data\n",
    "\n",
    "def get_fanny_concentration(file: pathlib.PosixPath):\n",
    "    n = file.name\n",
    "    conc = {'1':0.05, '2':0.1, '3': 0.2, '4':0.3, '5': 0.4, '6':0.5}\n",
    "    return conc[n[1]]\n",
    "\n",
    "def read_calib(p: pathlib.PosixPath, tmin=0, tmax=30):\n",
    "    files = p.glob('*.txt')\n",
    "    acid = p.name.split(' ')[0].lower().capitalize()\n",
    "    print(acid)\n",
    "    data_list = []\n",
    "    for file in files:\n",
    "        data = process_chromeleon_file(file, tmin, tmax)\n",
    "        data[acid] = get_fanny_concentration(file)\n",
    "        data = data.set_index(['t', acid]).to_xarray()\n",
    "        data_list.append(data)\n",
    "    data = xr.combine_by_coords(data_list)\n",
    "    savepath = str(p / acid) + '.nc'\n",
    "    data.to_netcdf(savepath)\n",
    "    return files, data"
   ]
  },
  {
   "cell_type": "code",
   "execution_count": 9,
   "id": "f271b00a-5e64-4a0b-8c02-f52ba41c4f55",
   "metadata": {},
   "outputs": [
    {
     "name": "stdout",
     "output_type": "stream",
     "text": [
      "/Users/ianbillinge/Documents/yiplab/projects/org_acids_iems/Fanny Raw IC Data/Calibration Curves\n",
      "/Users/ianbillinge/Documents/yiplab/projects/org_acids_iems/Fanny Raw IC Data/Calibration Curves/ACETIC ACID\n",
      "Acetic\n",
      "/Users/ianbillinge/Documents/yiplab/projects/org_acids_iems/Fanny Raw IC Data/Calibration Curves/BUTYRIC ACID\n",
      "Butyric\n",
      "/Users/ianbillinge/Documents/yiplab/projects/org_acids_iems/Fanny Raw IC Data/Calibration Curves/PROPANOIC ACID\n",
      "Propanoic\n",
      "/Users/ianbillinge/Documents/yiplab/projects/org_acids_iems/Fanny Raw IC Data/Calibration Curves/VALERIC ACID\n",
      "Valeric\n",
      "/Users/ianbillinge/Documents/yiplab/projects/org_acids_iems/Fanny Raw IC Data/Calibration Curves/CAPROIC ACID\n",
      "Caproic\n"
     ]
    }
   ],
   "source": [
    "path = Path('/Users/ianbillinge/Documents/yiplab/projects/org_acids_iems/Fanny Raw IC Data/Calibration Curves/')\n",
    "path = path.resolve()\n",
    "print(path)\n",
    "acids = [i for i in path.iterdir() if i.is_dir()]\n",
    "for acid in acids:\n",
    "    print(acid)\n",
    "    files, data = read_calib(acid, tmin=6.5, tmax=9)"
   ]
  },
  {
   "cell_type": "code",
   "execution_count": 10,
   "id": "5b5dcb5c-e27a-4c1e-9888-97d0b39565c7",
   "metadata": {},
   "outputs": [
    {
     "name": "stdout",
     "output_type": "stream",
     "text": [
      "Acetic\n",
      "Butyric\n",
      "Propanoic\n",
      "Valeric\n"
     ]
    }
   ],
   "source": [
    "tmin = 6.5\n",
    "tmax = 9\n",
    "a_path, ace = read_calib(acids[0],  tmin=tmin, tmax=tmax)\n",
    "p_path, pro = read_calib(acids[1],  tmin=tmin, tmax=tmax)\n",
    "b_path, but = read_calib(acids[2], tmin=tmin, tmax=tmax)\n",
    "v_path, val = read_calib(acids[3], tmin=tmin, tmax=tmax)"
   ]
  },
  {
   "cell_type": "code",
   "execution_count": null,
   "id": "ba60e3bc-0511-479f-8866-a62d0579d2c8",
   "metadata": {},
   "outputs": [],
   "source": []
  }
 ],
 "metadata": {
  "kernelspec": {
   "display_name": "Python 3 (ipykernel)",
   "language": "python",
   "name": "python3"
  },
  "language_info": {
   "codemirror_mode": {
    "name": "ipython",
    "version": 3
   },
   "file_extension": ".py",
   "mimetype": "text/x-python",
   "name": "python",
   "nbconvert_exporter": "python",
   "pygments_lexer": "ipython3",
   "version": "3.12.0"
  }
 },
 "nbformat": 4,
 "nbformat_minor": 5
}
